{
  "nbformat": 4,
  "nbformat_minor": 0,
  "metadata": {
    "colab": {
      "provenance": [],
      "gpuType": "T4",
      "include_colab_link": true
    },
    "kernelspec": {
      "name": "python3",
      "display_name": "Python 3"
    },
    "language_info": {
      "name": "python"
    },
    "accelerator": "GPU"
  },
  "cells": [
    {
      "cell_type": "markdown",
      "metadata": {
        "id": "view-in-github",
        "colab_type": "text"
      },
      "source": [
        "<a href=\"https://colab.research.google.com/github/arhammxo/mealMedic/blob/main/tts.ipynb\" target=\"_parent\"><img src=\"https://colab.research.google.com/assets/colab-badge.svg\" alt=\"Open In Colab\"/></a>"
      ]
    },
    {
      "cell_type": "code",
      "execution_count": null,
      "metadata": {
        "id": "asYG7lK7n6u0"
      },
      "outputs": [],
      "source": [
        "!git clone https://github.com/jaywalnut310/vits.git"
      ]
    },
    {
      "cell_type": "code",
      "source": [
        "%cd vits"
      ],
      "metadata": {
        "id": "qhLrZq6PTa8n"
      },
      "execution_count": 15,
      "outputs": []
    },
    {
      "cell_type": "code",
      "source": [
        "!pip install Cython\n",
        "!pip install librosa\n",
        "!pip install matplotlib\n",
        "!pip install numpy\n",
        "!pip install phonemizer\n",
        "!pip install scipy\n",
        "!pip install tensorboard\n",
        "!pip install torch\n",
        "!pip install torchvision\n",
        "!pip install Unidecode"
      ],
      "metadata": {
        "colab": {
          "base_uri": "https://localhost:8080/"
        },
        "id": "jrsyLvZMTd8Z",
        "outputId": "92f5e957-1887-4979-bc20-ae042dd1fd8f"
      },
      "execution_count": 16,
      "outputs": [
        {
          "output_type": "stream",
          "name": "stdout",
          "text": [
            "Requirement already satisfied: Cython in /usr/local/lib/python3.10/dist-packages (0.29.21)\n",
            "Requirement already satisfied: librosa in /usr/local/lib/python3.10/dist-packages (0.8.0)\n",
            "Requirement already satisfied: audioread>=2.0.0 in /usr/local/lib/python3.10/dist-packages (from librosa) (3.0.1)\n",
            "Requirement already satisfied: numpy>=1.15.0 in /usr/local/lib/python3.10/dist-packages (from librosa) (1.26.4)\n",
            "Requirement already satisfied: scipy>=1.0.0 in /usr/local/lib/python3.10/dist-packages (from librosa) (1.13.1)\n",
            "Requirement already satisfied: scikit-learn!=0.19.0,>=0.14.0 in /usr/local/lib/python3.10/dist-packages (from librosa) (1.5.2)\n",
            "Requirement already satisfied: joblib>=0.14 in /usr/local/lib/python3.10/dist-packages (from librosa) (1.4.2)\n",
            "Requirement already satisfied: decorator>=3.0.0 in /usr/local/lib/python3.10/dist-packages (from librosa) (4.4.2)\n",
            "Requirement already satisfied: resampy>=0.2.2 in /usr/local/lib/python3.10/dist-packages (from librosa) (0.4.3)\n",
            "Requirement already satisfied: numba>=0.43.0 in /usr/local/lib/python3.10/dist-packages (from librosa) (0.60.0)\n",
            "Requirement already satisfied: soundfile>=0.9.0 in /usr/local/lib/python3.10/dist-packages (from librosa) (0.12.1)\n",
            "Requirement already satisfied: pooch>=1.0 in /usr/local/lib/python3.10/dist-packages (from librosa) (1.8.2)\n",
            "Requirement already satisfied: llvmlite<0.44,>=0.43.0dev0 in /usr/local/lib/python3.10/dist-packages (from numba>=0.43.0->librosa) (0.43.0)\n",
            "Requirement already satisfied: platformdirs>=2.5.0 in /usr/local/lib/python3.10/dist-packages (from pooch>=1.0->librosa) (4.3.6)\n",
            "Requirement already satisfied: packaging>=20.0 in /usr/local/lib/python3.10/dist-packages (from pooch>=1.0->librosa) (24.1)\n",
            "Requirement already satisfied: requests>=2.19.0 in /usr/local/lib/python3.10/dist-packages (from pooch>=1.0->librosa) (2.32.3)\n",
            "Requirement already satisfied: threadpoolctl>=3.1.0 in /usr/local/lib/python3.10/dist-packages (from scikit-learn!=0.19.0,>=0.14.0->librosa) (3.5.0)\n",
            "Requirement already satisfied: cffi>=1.0 in /usr/local/lib/python3.10/dist-packages (from soundfile>=0.9.0->librosa) (1.17.1)\n",
            "Requirement already satisfied: pycparser in /usr/local/lib/python3.10/dist-packages (from cffi>=1.0->soundfile>=0.9.0->librosa) (2.22)\n",
            "Requirement already satisfied: charset-normalizer<4,>=2 in /usr/local/lib/python3.10/dist-packages (from requests>=2.19.0->pooch>=1.0->librosa) (3.4.0)\n",
            "Requirement already satisfied: idna<4,>=2.5 in /usr/local/lib/python3.10/dist-packages (from requests>=2.19.0->pooch>=1.0->librosa) (3.10)\n",
            "Requirement already satisfied: urllib3<3,>=1.21.1 in /usr/local/lib/python3.10/dist-packages (from requests>=2.19.0->pooch>=1.0->librosa) (2.2.3)\n",
            "Requirement already satisfied: certifi>=2017.4.17 in /usr/local/lib/python3.10/dist-packages (from requests>=2.19.0->pooch>=1.0->librosa) (2024.8.30)\n",
            "Requirement already satisfied: matplotlib in /usr/local/lib/python3.10/dist-packages (3.3.1)\n",
            "Requirement already satisfied: certifi>=2020.06.20 in /usr/local/lib/python3.10/dist-packages (from matplotlib) (2024.8.30)\n",
            "Requirement already satisfied: cycler>=0.10 in /usr/local/lib/python3.10/dist-packages (from matplotlib) (0.12.1)\n",
            "Requirement already satisfied: kiwisolver>=1.0.1 in /usr/local/lib/python3.10/dist-packages (from matplotlib) (1.4.7)\n",
            "Requirement already satisfied: numpy>=1.15 in /usr/local/lib/python3.10/dist-packages (from matplotlib) (1.26.4)\n",
            "Requirement already satisfied: pillow>=6.2.0 in /usr/local/lib/python3.10/dist-packages (from matplotlib) (10.4.0)\n",
            "Requirement already satisfied: pyparsing!=2.0.4,!=2.1.2,!=2.1.6,>=2.0.3 in /usr/local/lib/python3.10/dist-packages (from matplotlib) (3.2.0)\n",
            "Requirement already satisfied: python-dateutil>=2.1 in /usr/local/lib/python3.10/dist-packages (from matplotlib) (2.8.2)\n",
            "Requirement already satisfied: six>=1.5 in /usr/local/lib/python3.10/dist-packages (from python-dateutil>=2.1->matplotlib) (1.16.0)\n",
            "Requirement already satisfied: numpy in /usr/local/lib/python3.10/dist-packages (1.26.4)\n",
            "Requirement already satisfied: phonemizer in /usr/local/lib/python3.10/dist-packages (2.2.1)\n",
            "Requirement already satisfied: joblib in /usr/local/lib/python3.10/dist-packages (from phonemizer) (1.4.2)\n",
            "Requirement already satisfied: segments in /usr/local/lib/python3.10/dist-packages (from phonemizer) (2.2.1)\n",
            "Requirement already satisfied: attrs>=18.1 in /usr/local/lib/python3.10/dist-packages (from phonemizer) (24.2.0)\n",
            "Requirement already satisfied: clldutils>=1.7.3 in /usr/local/lib/python3.10/dist-packages (from segments->phonemizer) (3.24.0)\n",
            "Requirement already satisfied: csvw>=1.5.6 in /usr/local/lib/python3.10/dist-packages (from segments->phonemizer) (3.5.1)\n",
            "Requirement already satisfied: regex in /usr/local/lib/python3.10/dist-packages (from segments->phonemizer) (2024.9.11)\n",
            "Requirement already satisfied: python-dateutil in /usr/local/lib/python3.10/dist-packages (from clldutils>=1.7.3->segments->phonemizer) (2.8.2)\n",
            "Requirement already satisfied: tabulate>=0.7.7 in /usr/local/lib/python3.10/dist-packages (from clldutils>=1.7.3->segments->phonemizer) (0.9.0)\n",
            "Requirement already satisfied: colorlog in /usr/local/lib/python3.10/dist-packages (from clldutils>=1.7.3->segments->phonemizer) (6.9.0)\n",
            "Requirement already satisfied: bibtexparser>=2.0.0b4 in /usr/local/lib/python3.10/dist-packages (from clldutils>=1.7.3->segments->phonemizer) (2.0.0b7)\n",
            "Requirement already satisfied: pylatexenc in /usr/local/lib/python3.10/dist-packages (from clldutils>=1.7.3->segments->phonemizer) (2.10)\n",
            "Requirement already satisfied: markdown in /usr/local/lib/python3.10/dist-packages (from clldutils>=1.7.3->segments->phonemizer) (3.7)\n",
            "Requirement already satisfied: lxml in /usr/local/lib/python3.10/dist-packages (from clldutils>=1.7.3->segments->phonemizer) (5.3.0)\n",
            "Requirement already satisfied: markupsafe in /usr/local/lib/python3.10/dist-packages (from clldutils>=1.7.3->segments->phonemizer) (3.0.2)\n",
            "Requirement already satisfied: isodate in /usr/local/lib/python3.10/dist-packages (from csvw>=1.5.6->segments->phonemizer) (0.7.2)\n",
            "Requirement already satisfied: rfc3986<2 in /usr/local/lib/python3.10/dist-packages (from csvw>=1.5.6->segments->phonemizer) (1.5.0)\n",
            "Requirement already satisfied: uritemplate>=3.0.0 in /usr/local/lib/python3.10/dist-packages (from csvw>=1.5.6->segments->phonemizer) (4.1.1)\n",
            "Requirement already satisfied: babel in /usr/local/lib/python3.10/dist-packages (from csvw>=1.5.6->segments->phonemizer) (2.16.0)\n",
            "Requirement already satisfied: requests in /usr/local/lib/python3.10/dist-packages (from csvw>=1.5.6->segments->phonemizer) (2.32.3)\n",
            "Requirement already satisfied: language-tags in /usr/local/lib/python3.10/dist-packages (from csvw>=1.5.6->segments->phonemizer) (1.2.0)\n",
            "Requirement already satisfied: rdflib in /usr/local/lib/python3.10/dist-packages (from csvw>=1.5.6->segments->phonemizer) (7.1.1)\n",
            "Requirement already satisfied: colorama in /usr/local/lib/python3.10/dist-packages (from csvw>=1.5.6->segments->phonemizer) (0.4.6)\n",
            "Requirement already satisfied: jsonschema in /usr/local/lib/python3.10/dist-packages (from csvw>=1.5.6->segments->phonemizer) (4.23.0)\n",
            "Requirement already satisfied: jsonschema-specifications>=2023.03.6 in /usr/local/lib/python3.10/dist-packages (from jsonschema->csvw>=1.5.6->segments->phonemizer) (2024.10.1)\n",
            "Requirement already satisfied: referencing>=0.28.4 in /usr/local/lib/python3.10/dist-packages (from jsonschema->csvw>=1.5.6->segments->phonemizer) (0.35.1)\n",
            "Requirement already satisfied: rpds-py>=0.7.1 in /usr/local/lib/python3.10/dist-packages (from jsonschema->csvw>=1.5.6->segments->phonemizer) (0.20.0)\n",
            "Requirement already satisfied: six>=1.5 in /usr/local/lib/python3.10/dist-packages (from python-dateutil->clldutils>=1.7.3->segments->phonemizer) (1.16.0)\n",
            "Requirement already satisfied: pyparsing<4,>=2.1.0 in /usr/local/lib/python3.10/dist-packages (from rdflib->csvw>=1.5.6->segments->phonemizer) (3.2.0)\n",
            "Requirement already satisfied: charset-normalizer<4,>=2 in /usr/local/lib/python3.10/dist-packages (from requests->csvw>=1.5.6->segments->phonemizer) (3.4.0)\n",
            "Requirement already satisfied: idna<4,>=2.5 in /usr/local/lib/python3.10/dist-packages (from requests->csvw>=1.5.6->segments->phonemizer) (3.10)\n",
            "Requirement already satisfied: urllib3<3,>=1.21.1 in /usr/local/lib/python3.10/dist-packages (from requests->csvw>=1.5.6->segments->phonemizer) (2.2.3)\n",
            "Requirement already satisfied: certifi>=2017.4.17 in /usr/local/lib/python3.10/dist-packages (from requests->csvw>=1.5.6->segments->phonemizer) (2024.8.30)\n",
            "Requirement already satisfied: scipy in /usr/local/lib/python3.10/dist-packages (1.13.1)\n",
            "Requirement already satisfied: numpy<2.3,>=1.22.4 in /usr/local/lib/python3.10/dist-packages (from scipy) (1.26.4)\n",
            "Requirement already satisfied: tensorboard in /usr/local/lib/python3.10/dist-packages (2.3.0)\n",
            "Requirement already satisfied: absl-py>=0.4 in /usr/local/lib/python3.10/dist-packages (from tensorboard) (1.4.0)\n",
            "Requirement already satisfied: grpcio>=1.24.3 in /usr/local/lib/python3.10/dist-packages (from tensorboard) (1.64.1)\n",
            "Requirement already satisfied: google-auth<2,>=1.6.3 in /usr/local/lib/python3.10/dist-packages (from tensorboard) (1.35.0)\n",
            "Requirement already satisfied: google-auth-oauthlib<0.5,>=0.4.1 in /usr/local/lib/python3.10/dist-packages (from tensorboard) (0.4.6)\n",
            "Requirement already satisfied: markdown>=2.6.8 in /usr/local/lib/python3.10/dist-packages (from tensorboard) (3.7)\n",
            "Requirement already satisfied: numpy>=1.12.0 in /usr/local/lib/python3.10/dist-packages (from tensorboard) (1.26.4)\n",
            "Requirement already satisfied: protobuf>=3.6.0 in /usr/local/lib/python3.10/dist-packages (from tensorboard) (3.20.3)\n",
            "Requirement already satisfied: requests<3,>=2.21.0 in /usr/local/lib/python3.10/dist-packages (from tensorboard) (2.32.3)\n",
            "Requirement already satisfied: setuptools>=41.0.0 in /usr/local/lib/python3.10/dist-packages (from tensorboard) (75.1.0)\n",
            "Requirement already satisfied: six>=1.10.0 in /usr/local/lib/python3.10/dist-packages (from tensorboard) (1.16.0)\n",
            "Requirement already satisfied: tensorboard-plugin-wit>=1.6.0 in /usr/local/lib/python3.10/dist-packages (from tensorboard) (1.8.1)\n",
            "Requirement already satisfied: werkzeug>=0.11.15 in /usr/local/lib/python3.10/dist-packages (from tensorboard) (3.0.6)\n",
            "Requirement already satisfied: wheel>=0.26 in /usr/local/lib/python3.10/dist-packages (from tensorboard) (0.44.0)\n",
            "Requirement already satisfied: cachetools<5.0,>=2.0.0 in /usr/local/lib/python3.10/dist-packages (from google-auth<2,>=1.6.3->tensorboard) (4.2.4)\n",
            "Requirement already satisfied: pyasn1-modules>=0.2.1 in /usr/local/lib/python3.10/dist-packages (from google-auth<2,>=1.6.3->tensorboard) (0.4.1)\n",
            "Requirement already satisfied: rsa<5,>=3.1.4 in /usr/local/lib/python3.10/dist-packages (from google-auth<2,>=1.6.3->tensorboard) (4.9)\n",
            "Requirement already satisfied: requests-oauthlib>=0.7.0 in /usr/local/lib/python3.10/dist-packages (from google-auth-oauthlib<0.5,>=0.4.1->tensorboard) (1.3.1)\n",
            "Requirement already satisfied: charset-normalizer<4,>=2 in /usr/local/lib/python3.10/dist-packages (from requests<3,>=2.21.0->tensorboard) (3.4.0)\n",
            "Requirement already satisfied: idna<4,>=2.5 in /usr/local/lib/python3.10/dist-packages (from requests<3,>=2.21.0->tensorboard) (3.10)\n",
            "Requirement already satisfied: urllib3<3,>=1.21.1 in /usr/local/lib/python3.10/dist-packages (from requests<3,>=2.21.0->tensorboard) (2.2.3)\n",
            "Requirement already satisfied: certifi>=2017.4.17 in /usr/local/lib/python3.10/dist-packages (from requests<3,>=2.21.0->tensorboard) (2024.8.30)\n",
            "Requirement already satisfied: MarkupSafe>=2.1.1 in /usr/local/lib/python3.10/dist-packages (from werkzeug>=0.11.15->tensorboard) (3.0.2)\n",
            "Requirement already satisfied: pyasn1<0.7.0,>=0.4.6 in /usr/local/lib/python3.10/dist-packages (from pyasn1-modules>=0.2.1->google-auth<2,>=1.6.3->tensorboard) (0.6.1)\n",
            "Requirement already satisfied: oauthlib>=3.0.0 in /usr/local/lib/python3.10/dist-packages (from requests-oauthlib>=0.7.0->google-auth-oauthlib<0.5,>=0.4.1->tensorboard) (3.2.2)\n",
            "Requirement already satisfied: torch in /usr/local/lib/python3.10/dist-packages (2.5.0+cu121)\n",
            "Requirement already satisfied: filelock in /usr/local/lib/python3.10/dist-packages (from torch) (3.16.1)\n",
            "Requirement already satisfied: typing-extensions>=4.8.0 in /usr/local/lib/python3.10/dist-packages (from torch) (4.12.2)\n",
            "Requirement already satisfied: networkx in /usr/local/lib/python3.10/dist-packages (from torch) (3.4.2)\n",
            "Requirement already satisfied: jinja2 in /usr/local/lib/python3.10/dist-packages (from torch) (3.1.4)\n",
            "Requirement already satisfied: fsspec in /usr/local/lib/python3.10/dist-packages (from torch) (2024.10.0)\n",
            "Requirement already satisfied: sympy==1.13.1 in /usr/local/lib/python3.10/dist-packages (from torch) (1.13.1)\n",
            "Requirement already satisfied: mpmath<1.4,>=1.1.0 in /usr/local/lib/python3.10/dist-packages (from sympy==1.13.1->torch) (1.3.0)\n",
            "Requirement already satisfied: MarkupSafe>=2.0 in /usr/local/lib/python3.10/dist-packages (from jinja2->torch) (3.0.2)\n",
            "Requirement already satisfied: torchvision in /usr/local/lib/python3.10/dist-packages (0.20.0+cu121)\n",
            "Requirement already satisfied: numpy in /usr/local/lib/python3.10/dist-packages (from torchvision) (1.26.4)\n",
            "Requirement already satisfied: torch==2.5.0 in /usr/local/lib/python3.10/dist-packages (from torchvision) (2.5.0+cu121)\n",
            "Requirement already satisfied: pillow!=8.3.*,>=5.3.0 in /usr/local/lib/python3.10/dist-packages (from torchvision) (10.4.0)\n",
            "Requirement already satisfied: filelock in /usr/local/lib/python3.10/dist-packages (from torch==2.5.0->torchvision) (3.16.1)\n",
            "Requirement already satisfied: typing-extensions>=4.8.0 in /usr/local/lib/python3.10/dist-packages (from torch==2.5.0->torchvision) (4.12.2)\n",
            "Requirement already satisfied: networkx in /usr/local/lib/python3.10/dist-packages (from torch==2.5.0->torchvision) (3.4.2)\n",
            "Requirement already satisfied: jinja2 in /usr/local/lib/python3.10/dist-packages (from torch==2.5.0->torchvision) (3.1.4)\n",
            "Requirement already satisfied: fsspec in /usr/local/lib/python3.10/dist-packages (from torch==2.5.0->torchvision) (2024.10.0)\n",
            "Requirement already satisfied: sympy==1.13.1 in /usr/local/lib/python3.10/dist-packages (from torch==2.5.0->torchvision) (1.13.1)\n",
            "Requirement already satisfied: mpmath<1.4,>=1.1.0 in /usr/local/lib/python3.10/dist-packages (from sympy==1.13.1->torch==2.5.0->torchvision) (1.3.0)\n",
            "Requirement already satisfied: MarkupSafe>=2.0 in /usr/local/lib/python3.10/dist-packages (from jinja2->torch==2.5.0->torchvision) (3.0.2)\n",
            "Requirement already satisfied: Unidecode in /usr/local/lib/python3.10/dist-packages (1.1.1)\n"
          ]
        }
      ]
    },
    {
      "cell_type": "code",
      "source": [
        "%cd /content/vits/monotonic_align"
      ],
      "metadata": {
        "colab": {
          "base_uri": "https://localhost:8080/"
        },
        "id": "-bhzdHnjT3yz",
        "outputId": "de7d10a8-9c46-42e9-b3a7-bb1f4d3abed9"
      },
      "execution_count": 17,
      "outputs": [
        {
          "output_type": "stream",
          "name": "stdout",
          "text": [
            "[Errno 2] No such file or directory: '/content/vits/monotonic_align'\n",
            "/content/vits/monotonic_align/svarah\n"
          ]
        }
      ]
    },
    {
      "cell_type": "code",
      "source": [
        "!ls"
      ],
      "metadata": {
        "colab": {
          "base_uri": "https://localhost:8080/"
        },
        "id": "7vF8aYrZUlUK",
        "outputId": "268eb1d8-4dcb-44b8-ce79-e5dd84450df4"
      },
      "execution_count": 18,
      "outputs": [
        {
          "output_type": "stream",
          "name": "stdout",
          "text": [
            "saa_l1_manifest.json  vits\n"
          ]
        }
      ]
    },
    {
      "cell_type": "code",
      "source": [
        "%mkdir monotonic_align"
      ],
      "metadata": {
        "id": "iPJnV16iVcoa"
      },
      "execution_count": 19,
      "outputs": []
    },
    {
      "cell_type": "code",
      "source": [
        "!python setup.py build_ext --inplace"
      ],
      "metadata": {
        "id": "sMlZlSBuUAEY",
        "colab": {
          "base_uri": "https://localhost:8080/"
        },
        "outputId": "c44defc5-585c-439c-801a-5fdbcab63dc1"
      },
      "execution_count": 20,
      "outputs": [
        {
          "output_type": "stream",
          "name": "stdout",
          "text": [
            "python3: can't open file '/content/vitsasdasdas/monotonic_align/svarah/setup.py': [Errno 2] No such file or directory\n"
          ]
        }
      ]
    },
    {
      "cell_type": "code",
      "source": [
        "!wget https://indic-asr-public.objectstore.e2enetworks.net/svarah.tar"
      ],
      "metadata": {
        "colab": {
          "base_uri": "https://localhost:8080/"
        },
        "id": "NzbqyFwWWeKA",
        "outputId": "d8d64beb-b926-4f7e-d934-7b508644ea35"
      },
      "execution_count": null,
      "outputs": [
        {
          "output_type": "stream",
          "name": "stdout",
          "text": [
            "--2024-11-05 22:58:24--  https://indic-asr-public.objectstore.e2enetworks.net/svarah.tar\n",
            "Resolving indic-asr-public.objectstore.e2enetworks.net (indic-asr-public.objectstore.e2enetworks.net)... 101.53.136.18, 101.53.152.33, 164.52.210.96, ...\n",
            "Connecting to indic-asr-public.objectstore.e2enetworks.net (indic-asr-public.objectstore.e2enetworks.net)|101.53.136.18|:443... connected.\n",
            "HTTP request sent, awaiting response... 200 OK\n",
            "Length: 1122488320 (1.0G) [application/x-tar]\n",
            "Saving to: ‘svarah.tar’\n",
            "\n",
            "svarah.tar           24%[===>                ] 259.61M  15.3MB/s    eta 53s    "
          ]
        }
      ]
    },
    {
      "cell_type": "code",
      "source": [
        "!tar -xvf svarah.tar"
      ],
      "metadata": {
        "id": "3xXojKk2XFsb"
      },
      "execution_count": null,
      "outputs": []
    },
    {
      "cell_type": "code",
      "source": [
        "%cd svarah\n",
        "!ls"
      ],
      "metadata": {
        "id": "uH_p850jYNDQ"
      },
      "execution_count": null,
      "outputs": []
    },
    {
      "cell_type": "code",
      "source": [
        "import json\n",
        "import random\n",
        "from typing import List, Dict\n",
        "import os\n",
        "\n",
        "def read_json_lines(file_path: str) -> List[Dict]:\n",
        "    \"\"\"Read JSON Lines file and return list of dictionaries.\"\"\"\n",
        "    data = []\n",
        "    with open(file_path, 'r', encoding='utf-8') as f:\n",
        "        for line in f:\n",
        "            if line.strip():  # Skip empty lines\n",
        "                data.append(json.loads(line))\n",
        "    return data\n",
        "\n",
        "def format_line(entry: Dict) -> str:\n",
        "    \"\"\"Format entry to required format: path_to_wav|transcript\"\"\"\n",
        "    return f\"{entry['audio_filepath']}|{entry['text']}\"\n",
        "\n",
        "def split_and_save_data(data: List[Dict], output_dir: str, train_ratio=0.8, test_ratio=0.1, val_ratio=0.1):\n",
        "    \"\"\"Split data and save to files.\"\"\"\n",
        "    # Ensure output directory exists\n",
        "    os.makedirs(output_dir, exist_ok=True)\n",
        "\n",
        "    # Shuffle data\n",
        "    random.shuffle(data)\n",
        "\n",
        "    # Calculate split indices\n",
        "    total = len(data)\n",
        "    train_end = int(total * train_ratio)\n",
        "    test_end = train_end + int(total * test_ratio)\n",
        "\n",
        "    # Split data\n",
        "    train_data = data[:train_end]\n",
        "    test_data = data[train_end:test_end]\n",
        "    val_data = data[test_end:]\n",
        "\n",
        "    # Save splits to files\n",
        "    splits = {\n",
        "        'train.txt': train_data,\n",
        "        'test.txt': test_data,\n",
        "        'val.txt': val_data\n",
        "    }\n",
        "\n",
        "    for filename, split_data in splits.items():\n",
        "        output_path = os.path.join(output_dir, filename)\n",
        "        with open(output_path, 'w', encoding='utf-8') as f:\n",
        "            for entry in split_data:\n",
        "                f.write(format_line(entry) + '\\n')\n",
        "\n",
        "        # Print statistics\n",
        "        print(f\"{filename}: {len(split_data)} entries ({len(split_data)/total*100:.1f}%)\")\n",
        "\n",
        "def main():\n",
        "    # Configuration\n",
        "    input_file = 'svarah_manifest.json'  # Replace with your input file path\n",
        "    output_dir = 'splits'     # Output directory for split files\n",
        "\n",
        "    # Read data\n",
        "    print(\"Reading data...\")\n",
        "    data = read_json_lines(input_file)\n",
        "    print(f\"Total entries: {len(data)}\")\n",
        "\n",
        "    # Split and save data\n",
        "    print(\"\\nSplitting and saving data...\")\n",
        "    split_and_save_data(data, output_dir)\n",
        "\n",
        "    print(\"\\nDone! Files have been saved in the 'splits' directory.\")\n",
        "\n",
        "if __name__ == \"__main__\":\n",
        "    main()"
      ],
      "metadata": {
        "id": "AgGsUwXWYUDf"
      },
      "execution_count": null,
      "outputs": []
    },
    {
      "cell_type": "code",
      "source": [
        "%cd /content/vits\n",
        "!ls"
      ],
      "metadata": {
        "id": "LOB9P63wZU0O"
      },
      "execution_count": null,
      "outputs": []
    },
    {
      "cell_type": "code",
      "source": [
        "!apt-get install espeak -y"
      ],
      "metadata": {
        "id": "h7Fds5EPaEYs"
      },
      "execution_count": null,
      "outputs": []
    },
    {
      "cell_type": "code",
      "source": [
        "!pip install espeakng\n",
        "!pip install --upgrade espeakng\n",
        "\n",
        "# After installing, restart the runtime"
      ],
      "metadata": {
        "id": "Qv26g5oXboBL"
      },
      "execution_count": null,
      "outputs": []
    },
    {
      "cell_type": "code",
      "source": [
        "!python preprocess.py --text_index 1 --filelists /content/vits/monotonic_align/svarah/splits/train.txt /content/vits/monotonic_align/svarah/splits/val.txt /content/vits/monotonic_align/svarah/splits/test.txt"
      ],
      "metadata": {
        "collapsed": true,
        "id": "Ac1Ti9b5ZZvj"
      },
      "execution_count": null,
      "outputs": []
    },
    {
      "cell_type": "code",
      "source": [
        "%%writefile conf.py\n",
        "\n",
        "import json\n",
        "import argparse\n",
        "from pathlib import Path\n",
        "\n",
        "def create_vits_config(\n",
        "    train_filelist: str,\n",
        "    val_filelist: str,\n",
        "    output_path: str,\n",
        "    sampling_rate: int = 22050,\n",
        "    batch_size: int = 32,\n",
        "    n_speakers: int = 0,\n",
        "    epochs: int = 20000,\n",
        "    is_cleaned_text: bool = True,\n",
        "    language_cleaners: list = [\"english_cleaners2\"]\n",
        "):\n",
        "    \"\"\"\n",
        "    Create a VITS configuration file based on input parameters.\n",
        "\n",
        "    Args:\n",
        "        train_filelist: Path to training filelist\n",
        "        val_filelist: Path to validation filelist\n",
        "        output_path: Where to save the config file\n",
        "        sampling_rate: Audio sampling rate\n",
        "        batch_size: Training batch size\n",
        "        n_speakers: Number of speakers (0 for single speaker)\n",
        "        epochs: Number of training epochs\n",
        "        is_cleaned_text: Whether text has been cleaned\n",
        "        language_cleaners: List of text cleaners to apply\n",
        "    \"\"\"\n",
        "\n",
        "    config = {\n",
        "        \"train\": {\n",
        "            \"log_interval\": 200,\n",
        "            \"eval_interval\": 1000,\n",
        "            \"seed\": 1234,\n",
        "            \"epochs\": epochs,\n",
        "            \"learning_rate\": 2e-4,\n",
        "            \"betas\": [0.8, 0.99],\n",
        "            \"eps\": 1e-9,\n",
        "            \"batch_size\": batch_size,\n",
        "            \"fp16_run\": True,\n",
        "            \"lr_decay\": 0.999875,\n",
        "            \"segment_size\": 8192,\n",
        "            \"init_lr_ratio\": 1,\n",
        "            \"warmup_epochs\": 0,\n",
        "            \"c_mel\": 45,\n",
        "            \"c_kl\": 1.0\n",
        "        },\n",
        "        \"data\": {\n",
        "            \"training_files\": train_filelist,\n",
        "            \"validation_files\": val_filelist,\n",
        "            \"text_cleaners\": language_cleaners,\n",
        "            \"max_wav_value\": 32768.0,\n",
        "            \"sampling_rate\": sampling_rate,\n",
        "            \"filter_length\": 1024,\n",
        "            \"hop_length\": 256,\n",
        "            \"win_length\": 1024,\n",
        "            \"n_mel_channels\": 80,\n",
        "            \"mel_fmin\": 0.0,\n",
        "            \"mel_fmax\": None,\n",
        "            \"add_blank\": True,\n",
        "            \"n_speakers\": n_speakers,\n",
        "            \"cleaned_text\": is_cleaned_text\n",
        "        },\n",
        "        \"model\": {\n",
        "            \"inter_channels\": 192,\n",
        "            \"hidden_channels\": 192,\n",
        "            \"filter_channels\": 768,\n",
        "            \"n_heads\": 2,\n",
        "            \"n_layers\": 6,\n",
        "            \"kernel_size\": 3,\n",
        "            \"p_dropout\": 0.1,\n",
        "            \"resblock\": \"1\",\n",
        "            \"resblock_kernel_sizes\": [3,7,11],\n",
        "            \"resblock_dilation_sizes\": [[1,3,5], [1,3,5], [1,3,5]],\n",
        "            \"upsample_rates\": [8,8,2,2],\n",
        "            \"upsample_initial_channel\": 512,\n",
        "            \"upsample_kernel_sizes\": [16,16,4,4],\n",
        "            \"n_layers_q\": 3,\n",
        "            \"use_spectral_norm\": False\n",
        "        }\n",
        "    }\n",
        "\n",
        "    # Calculate optimal segment size based on sampling rate\n",
        "    config[\"train\"][\"segment_size\"] = int(8192 * (sampling_rate / 22050))\n",
        "\n",
        "    # Adjust filter_length and window parameters based on sampling rate\n",
        "    if sampling_rate != 22050:\n",
        "        scale_factor = sampling_rate / 22050\n",
        "        config[\"data\"][\"filter_length\"] = int(1024 * scale_factor)\n",
        "        config[\"data\"][\"hop_length\"] = int(256 * scale_factor)\n",
        "        config[\"data\"][\"win_length\"] = int(1024 * scale_factor)\n",
        "\n",
        "    # Create output directory if it doesn't exist\n",
        "    output_dir = Path(output_path).parent\n",
        "    output_dir.mkdir(parents=True, exist_ok=True)\n",
        "\n",
        "    # Save the configuration\n",
        "    with open(output_path, 'w') as f:\n",
        "        json.dump(config, f, indent=2)\n",
        "\n",
        "    print(f\"Configuration file saved to: {output_path}\")\n",
        "    return config\n",
        "\n",
        "if __name__ == \"__main__\":\n",
        "    parser = argparse.ArgumentParser(description=\"Generate VITS configuration file\")\n",
        "    parser.add_argument(\"--train_filelist\", required=True, help=\"Path to training filelist\")\n",
        "    parser.add_argument(\"--val_filelist\", required=True, help=\"Path to validation filelist\")\n",
        "    parser.add_argument(\"--output\", required=True, help=\"Output path for config file\")\n",
        "    parser.add_argument(\"--sampling_rate\", type=int, default=22050, help=\"Audio sampling rate\")\n",
        "    parser.add_argument(\"--batch_size\", type=int, default=32, help=\"Training batch size\")\n",
        "    parser.add_argument(\"--n_speakers\", type=int, default=0, help=\"Number of speakers (0 for single speaker)\")\n",
        "    parser.add_argument(\"--epochs\", type=int, default=20000, help=\"Number of training epochs\")\n",
        "    parser.add_argument(\"--no_cleaned_text\", action=\"store_false\", dest=\"is_cleaned_text\",\n",
        "                       help=\"Set this flag if text is not cleaned\")\n",
        "    parser.add_argument(\"--language_cleaners\", nargs=\"+\", default=[\"english_cleaners2\"],\n",
        "                       help=\"List of text cleaners to apply\")\n",
        "\n",
        "    args = parser.parse_args()\n",
        "\n",
        "    create_vits_config(\n",
        "        train_filelist=args.train_filelist,\n",
        "        val_filelist=args.val_filelist,\n",
        "        output_path=args.output,\n",
        "        sampling_rate=args.sampling_rate,\n",
        "        batch_size=args.batch_size,\n",
        "        n_speakers=args.n_speakers,\n",
        "        epochs=args.epochs,\n",
        "        is_cleaned_text=args.is_cleaned_text,\n",
        "        language_cleaners=args.language_cleaners\n",
        "    )"
      ],
      "metadata": {
        "id": "drVuxLlsicwS"
      },
      "execution_count": null,
      "outputs": []
    },
    {
      "cell_type": "code",
      "source": [
        "!python conf.py \\\n",
        "    --train_filelist \"/content/vits/monotonic_align/svarah/splits/train.txt\" \\\n",
        "    --val_filelist \"/content/vits/monotonic_align/svarah/splits/val.txt\" \\\n",
        "    --output \"configs/your_config.json\""
      ],
      "metadata": {
        "id": "nNVBhTLXe1Zo"
      },
      "execution_count": null,
      "outputs": []
    },
    {
      "cell_type": "code",
      "source": [
        "!python train.py -c configs/your_config.json -m your_model_name"
      ],
      "metadata": {
        "id": "Heqw0JVMfbkX"
      },
      "execution_count": null,
      "outputs": []
    }
  ]
}